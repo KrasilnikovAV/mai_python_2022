{
 "cells": [
  {
   "cell_type": "code",
   "execution_count": 1,
   "id": "e76d6f29",
   "metadata": {},
   "outputs": [
    {
     "name": "stdout",
     "output_type": "stream",
     "text": [
      "DJI Mavic 2 Pro\n",
      "DJI Mavic 2 Zoom\n",
      "DJI Mavic 2 Enterprise Advanced\n",
      "AUTEL Evo II Pro\n",
      "DJI Mini 2\n",
      "Autel Evo Nano\n",
      "Autel Evo Lite Plus\n",
      "Parrot Anafi\n",
      "Dji Inspire 2\n",
      "DJI Mavic 3\n",
      "DJI Mavic Air2s\n",
      "Ryze Tello\n",
      "Eachine Trashcan\n"
     ]
    }
   ],
   "source": [
    "drone_list = [\"DJI Mavic 2 Pro\", \"DJI Mavic 2 Zoom\", \"DJI Mavic 2 Enterprise Advanced\", \"AUTEL Evo II Pro\", \"DJI Mini 2\", \"Autel Evo Nano\", \"Autel Evo Lite Plus\", \"Parrot Anafi\", \"Dji Inspire 2\", \"DJI Mavic 3\", \"DJI Mavic Air2s\", \"Ryze Tello\", \"Eachine Trashcan\"]\n",
    "\n",
    "drone_weight_list = [903, 900, 920, 980, 249, 249, 600, 540, 1500, 1000, 570, 130, 110]\n",
    "\n",
    "#в drone по очереди попадает каждый дрон из списка drone_list\n",
    "for drone in drone_list:\n",
    "    print(drone)"
   ]
  },
  {
   "cell_type": "code",
   "execution_count": 2,
   "id": "01d9d6ce",
   "metadata": {},
   "outputs": [
    {
     "name": "stdout",
     "output_type": "stream",
     "text": [
      "7\n",
      "DJI Mavic 2 Pro\n",
      "DJI Mavic 2 Zoom\n",
      "DJI Mavic 2 Enterprise Advanced\n",
      "DJI Mini 2\n",
      "DJI Inspire 2\n",
      "DJI Mavic 3\n",
      "DJI Mavic Air2s\n"
     ]
    }
   ],
   "source": [
    "#TODO1\n",
    "#выведите все дроны производителя, название которого введет пользователь через input, и подсчитайте их количество. \n",
    "#учтите, что:\n",
    "#1) DJI и Dji - это один и тот же производитель! такие случаи тоже должны обрабатываться\n",
    "#2) при выводе исправьте название производителя, если допущена ошибка. правильный вариант названия: DJI, Autel\n",
    "\n",
    "inp = \"dji\"\n",
    "\n",
    "correct_drone_list = []\n",
    "for i in drone_list:\n",
    "    firm = i.split()[0].lower()\n",
    "    if firm == inp:\n",
    "        if firm == \"dji\":\n",
    "            correct_drone_list.append(\"DJI\" + i[3:])\n",
    "        elif firm == \"autel\":\n",
    "            correct_drone_list.append(\"Autel\" + i[5:])\n",
    "        else:\n",
    "            correct_drone_list.append(i)\n",
    "\n",
    "print(len(correct_drone_list))\n",
    "for i in correct_drone_list:\n",
    "    print(i)"
   ]
  },
  {
   "cell_type": "code",
   "execution_count": 3,
   "id": "6eb6cde9",
   "metadata": {},
   "outputs": [
    {
     "data": {
      "text/plain": [
       "Counter({'dji': 7, 'autel': 3, 'parrot': 1, 'ryze': 1, 'eachine': 1})"
      ]
     },
     "execution_count": 3,
     "metadata": {},
     "output_type": "execute_result"
    }
   ],
   "source": [
    "#TODO2\n",
    "#подсчитайте количество моделей дронов каждого производителя из списка drone_list. производители: DJI, Autel, Parrot, Ryze, Eachine\n",
    "\n",
    "from collections import Counter\n",
    "\n",
    "Counter([i.split()[0].lower() for i in drone_list])"
   ]
  },
  {
   "cell_type": "code",
   "execution_count": 4,
   "id": "8b86aedb",
   "metadata": {},
   "outputs": [
    {
     "name": "stdout",
     "output_type": "stream",
     "text": [
      "DJI Mavic 2 Pro\n",
      "DJI Mavic 2 Zoom\n",
      "DJI Mavic 2 Enterprise Advanced\n",
      "AUTEL Evo II Pro\n",
      "DJI Mini 2\n",
      "Autel Evo Nano\n",
      "Autel Evo Lite Plus\n",
      "Parrot Anafi\n",
      "Dji Inspire 2\n",
      "DJI Mavic 3\n",
      "DJI Mavic Air2s\n",
      "11\n",
      "\n",
      "Ryze Tello\n",
      "Eachine Trashcan\n",
      "2\n"
     ]
    }
   ],
   "source": [
    "#TODO3\n",
    "#выведите все дроны из списка, которые нужно регистрировать (масса больше 150 г), и подсчитайте их количество. \n",
    "#сделайте то же самое для всех дронов, которые не нужно регистрировать\n",
    "#для этого вам нужно параллельно обрабатывать два списка: drone_list и drone_weight_list:\n",
    "#как работает zip, мы разберем на лекции про списки. пока что просто пользуйтесь\n",
    "\n",
    "count = 0\n",
    "for drone, weight in zip(drone_list,  drone_weight_list):\n",
    "    if weight > 150:\n",
    "        print(drone)\n",
    "        count += 1\n",
    "print(count)\n",
    "print()\n",
    "\n",
    "count = 0\n",
    "for drone, weight in zip(drone_list,  drone_weight_list):\n",
    "    if weight < 150:\n",
    "        print(drone)\n",
    "        count += 1\n",
    "print(count)"
   ]
  },
  {
   "cell_type": "code",
   "execution_count": 5,
   "id": "ca1489e3",
   "metadata": {},
   "outputs": [
    {
     "name": "stdout",
     "output_type": "stream",
     "text": [
      "DJI Mavic 2 Pro - нужно согласовывать\n",
      "DJI Mavic 2 Zoom - нужно согласовывать\n",
      "DJI Mavic 2 Enterprise Advanced - нужно согласовывать\n",
      "AUTEL Evo II Pro - нужно согласовывать\n",
      "DJI Mini 2 - нужно согласовывать\n",
      "Autel Evo Nano - нужно согласовывать\n",
      "Autel Evo Lite Plus - нужно согласовывать\n",
      "Parrot Anafi - нужно согласовывать\n",
      "Dji Inspire 2 - нужно согласовывать\n",
      "DJI Mavic 3 - нужно согласовывать\n",
      "DJI Mavic Air2s - нужно согласовывать\n",
      "Ryze Tello - не нужно согласовывать\n",
      "Eachine Trashcan - не нужно согласовывать\n"
     ]
    }
   ],
   "source": [
    "#TODO4\n",
    "#для каждого дрона из списка выведите, нудно ли согласовывать полет при следующих условиях:\n",
    "#высота 100 м, полет над населенным пунктом, вне закрытых зон, в прямой видимости\n",
    "#помните, что для дронов тяжелее 150 г согласовывать полет над населенным пунктом - обязательно!\n",
    "\n",
    "for drone, weight in zip(drone_list,  drone_weight_list):\n",
    "    if weight > 150:\n",
    "        print(drone + \" - нужно согласовывать\")\n",
    "    else:\n",
    "        print(drone + \" - не нужно согласовывать\")"
   ]
  },
  {
   "cell_type": "code",
   "execution_count": 6,
   "id": "aefe9c8e",
   "metadata": {},
   "outputs": [
    {
     "name": "stdout",
     "output_type": "stream",
     "text": [
      "Mavic2Pro, Mavic2Zoom, Mavic2EnterpriseAdvanced, Mini2, Inspire2, Mavic3, MavicAir2s\n"
     ]
    }
   ],
   "source": [
    "#TODO5*\n",
    "#модифицируйте решение задания TODO1:\n",
    "#теперь для введенного пользователем производителя вы должны вывести строку, содержащую перечисление моделей и БЕЗ названия производителя.\n",
    "#например, пользователь ввел \"Autel\". ваша программа должна вывести вот такой результат: \"Evo II Pro, Evo Nano, Evo Lite Plus\". для этого вам понадобится несколько функций работы со строками. решить эту задачу можно несколькими разными способами\n",
    "#производители те же: DJI, Autel, Parrot, Ryze, Eachine\n",
    "\n",
    "inp = \"dji\"\n",
    "\n",
    "ans = str()\n",
    "for i in drone_list:\n",
    "    firm = i.split()[0].lower()\n",
    "    if firm == inp:\n",
    "        ans += \"\".join(i.split()[1:]) + ', '\n",
    "\n",
    "print(ans[:-2])"
   ]
  },
  {
   "cell_type": "code",
   "execution_count": null,
   "id": "ddd1bb7a",
   "metadata": {},
   "outputs": [],
   "source": []
  }
 ],
 "metadata": {
  "kernelspec": {
   "display_name": "Python 3 (ipykernel)",
   "language": "python",
   "name": "python3"
  },
  "language_info": {
   "codemirror_mode": {
    "name": "ipython",
    "version": 3
   },
   "file_extension": ".py",
   "mimetype": "text/x-python",
   "name": "python",
   "nbconvert_exporter": "python",
   "pygments_lexer": "ipython3",
   "version": "3.8.9"
  }
 },
 "nbformat": 4,
 "nbformat_minor": 5
}
